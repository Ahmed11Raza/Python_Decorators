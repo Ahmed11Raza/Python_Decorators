{
  "nbformat": 4,
  "nbformat_minor": 0,
  "metadata": {
    "colab": {
      "provenance": [],
      "authorship_tag": "ABX9TyOLYjAVDgnPQAoQL971yhCi",
      "include_colab_link": true
    },
    "kernelspec": {
      "name": "python3",
      "display_name": "Python 3"
    },
    "language_info": {
      "name": "python"
    }
  },
  "cells": [
    {
      "cell_type": "markdown",
      "metadata": {
        "id": "view-in-github",
        "colab_type": "text"
      },
      "source": [
        "<a href=\"https://colab.research.google.com/github/Ahmed11Raza/Python_Decorators/blob/main/Decorators_functions.ipynb\" target=\"_parent\"><img src=\"https://colab.research.google.com/assets/colab-badge.svg\" alt=\"Open In Colab\"/></a>"
      ]
    },
    {
      "cell_type": "markdown",
      "source": [
        "# Decorator_functions"
      ],
      "metadata": {
        "id": "JfB4G46OrAZ6"
      }
    },
    {
      "cell_type": "markdown",
      "source": [
        "**What is a Decorator**?\n",
        "\n",
        "Think of a decorator as a \"wrapper\" around a function. Just like a gift wrap adds beauty to a present without changing the gift inside, a decorator adds functionality to a function without altering its original code.\n",
        "\n",
        "**Key Concepts:**\n",
        "1. Functions are Objects: In Python, functions can be passed around like variables.\n",
        "\n",
        "2. Nested Functions: You can define a function inside another function.\n",
        "\n",
        "3. Returning Functions: A function can return another function."
      ],
      "metadata": {
        "id": "PPYxY6ersuIB"
      }
    },
    {
      "cell_type": "markdown",
      "source": [
        "**Example 1: Basic Decorator**\n",
        "\n",
        "Let’s create a decorator that adds \"Before\" and \"After\" messages around a function."
      ],
      "metadata": {
        "id": "FZXXWR4QtGA1"
      }
    },
    {
      "cell_type": "code",
      "execution_count": 1,
      "metadata": {
        "id": "4_vInHH_Fp0B",
        "colab": {
          "base_uri": "https://localhost:8080/"
        },
        "outputId": "1782c019-f3e7-40b9-8434-6ac3fc80f848"
      },
      "outputs": [
        {
          "output_type": "stream",
          "name": "stdout",
          "text": [
            "Before function runs\n",
            "Hello!\n",
            "After function runs\n"
          ]
        }
      ],
      "source": [
        "# Step 1: Define the decorator\n",
        "def simple_decorator(func):\n",
        "    def wrapper():\n",
        "        print(\"Before function runs\")\n",
        "        func()  # Run the original function\n",
        "        print(\"After function runs\")\n",
        "    return wrapper\n",
        "\n",
        "# Step 2: Use the decorator\n",
        "@simple_decorator\n",
        "def greet():\n",
        "    print(\"Hello!\")\n",
        "\n",
        "# Step 3: Call the decorated function\n",
        "greet()"
      ]
    },
    {
      "cell_type": "markdown",
      "source": [
        "# How It Works\n",
        "\n",
        "**@simple_decorator** is syntactic sugar for greet = *simple_decorator*(greet).\n",
        "\n",
        "The decorator (*simple_decorator*) takes the original function (greet) and returns a new function (wrapper) with added behavior."
      ],
      "metadata": {
        "id": "JRxXq0TwtRir"
      }
    },
    {
      "cell_type": "markdown",
      "source": [
        "# Example 2: Decorators for Functions with Arguments\n",
        "\n",
        "What if your function has arguments? Use *args and **kwargs to handle them!"
      ],
      "metadata": {
        "id": "gLK_LGKDthzx"
      }
    },
    {
      "cell_type": "code",
      "source": [
        "def argument_decorator(func):\n",
        "    def wrapper(*args, **kwargs):\n",
        "        print(\"Before\")\n",
        "        result = func(*args, **kwargs)  # Pass arguments to the original function\n",
        "        print(\"After\")\n",
        "        return result  # Return the original result\n",
        "    return wrapper\n",
        "\n",
        "@argument_decorator\n",
        "def greet(name):\n",
        "    print(f\"Hello, {name}!\")\n",
        "    return f\"Successfully greeted {name}\"\n",
        "\n",
        "response = greet(\"Alice\")\n",
        "print(\"Response:\", response)"
      ],
      "metadata": {
        "colab": {
          "base_uri": "https://localhost:8080/"
        },
        "id": "zX-xxA9rtwIZ",
        "outputId": "79becab8-b657-4801-98a7-07feacc24a97"
      },
      "execution_count": 2,
      "outputs": [
        {
          "output_type": "stream",
          "name": "stdout",
          "text": [
            "Before\n",
            "Hello, Alice!\n",
            "After\n",
            "Response: Successfully greeted Alice\n"
          ]
        }
      ]
    },
    {
      "cell_type": "markdown",
      "source": [
        "# Example 3: Preserving Function Metadata\n",
        "Decorators can hide the original function’s name and docstring. Fix this with functools.wraps!"
      ],
      "metadata": {
        "id": "pLUOSiMXt2qZ"
      }
    },
    {
      "cell_type": "code",
      "source": [
        "from functools import wraps\n",
        "\n",
        "def meta_decorator(func):\n",
        "    @wraps(func)  # Preserves function metadata\n",
        "    def wrapper(*args, **kwargs):\n",
        "        print(\"Metadata-friendly decorator!\")\n",
        "        return func(*args, **kwargs)\n",
        "    return wrapper\n",
        "\n",
        "@meta_decorator\n",
        "def calculate(a, b):\n",
        "    \"\"\"Adds two numbers.\"\"\"\n",
        "    return a + b\n",
        "\n",
        "print(calculate.__name__)  # Output: \"calculate\" (not \"wrapper\")\n",
        "print(calculate.__doc__)   # Output: \"Adds two numbers.\""
      ],
      "metadata": {
        "colab": {
          "base_uri": "https://localhost:8080/"
        },
        "id": "LvP_GzLNt7UE",
        "outputId": "e3c34b41-3015-4450-b8b4-c2c9261bb940"
      },
      "execution_count": 3,
      "outputs": [
        {
          "output_type": "stream",
          "name": "stdout",
          "text": [
            "calculate\n",
            "Adds two numbers.\n"
          ]
        }
      ]
    },
    {
      "cell_type": "markdown",
      "source": [
        "#Common Uses of Decorators\n",
        "\n",
        "1. Logging: Track when a function runs.\n",
        "\n",
        "2. Timing: Measure how long a function takes.\n",
        "\n",
        "3. Authentication: Check if a user is logged in.\n",
        "\n",
        "4. Caching: Store results to avoid re-computation."
      ],
      "metadata": {
        "id": "O9Ah8040uBT7"
      }
    },
    {
      "cell_type": "code",
      "source": [
        "import time\n",
        "\n",
        "def timer_decorator(func):\n",
        "    @wraps(func)\n",
        "    def wrapper(*args, **kwargs):\n",
        "        start_time = time.time()\n",
        "        result = func(*args, **kwargs)\n",
        "        end_time = time.time()\n",
        "        print(f\"{func.__name__} took {end_time - start_time:.2f} seconds\")\n",
        "        return result\n",
        "    return wrapper\n",
        "\n",
        "@timer_decorator\n",
        "def slow_function():\n",
        "    time.sleep(2)\n",
        "    print(\"Function complete!\")\n",
        "\n",
        "slow_function()"
      ],
      "metadata": {
        "colab": {
          "base_uri": "https://localhost:8080/"
        },
        "id": "hc53dz1Ft7my",
        "outputId": "d2edb599-d2f1-47d2-bd43-59176826559e"
      },
      "execution_count": 4,
      "outputs": [
        {
          "output_type": "stream",
          "name": "stdout",
          "text": [
            "Function complete!\n",
            "slow_function took 2.00 seconds\n"
          ]
        }
      ]
    },
    {
      "cell_type": "markdown",
      "source": [
        "#Summary\n",
        "1. Decorators wrap functions to add extra behavior.\n",
        "\n",
        "2. Use *args and **kwargs to handle any function arguments.\n",
        "\n",
        "3. Use @functools.wraps to preserve metadata.\n",
        "\n",
        "4. Decorators make code reusable and clean!"
      ],
      "metadata": {
        "id": "eY1UgJ5IubSj"
      }
    }
  ]
}